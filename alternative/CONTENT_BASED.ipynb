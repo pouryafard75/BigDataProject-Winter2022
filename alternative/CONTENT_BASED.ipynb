{
  "cells": [
    {
      "cell_type": "markdown",
      "metadata": {
        "id": "8w66SWh5uuIC"
      },
      "source": []
    },
    {
      "cell_type": "markdown",
      "metadata": {
        "id": "reD2QpN8uvB3"
      },
      "source": [
        "# Downloading datasets "
      ]
    },
    {
      "cell_type": "code",
      "execution_count": 69,
      "metadata": {
        "colab": {
          "base_uri": "https://localhost:8080/"
        },
        "id": "Ca2QwGm5uURL",
        "outputId": "0f0b595a-c815-4f5e-daf3-bc33e8dcd691"
      },
      "outputs": [
        {
          "name": "stdout",
          "output_type": "stream",
          "text": [
            "Drive already mounted at /content/drive; to attempt to forcibly remount, call drive.mount(\"/content/drive\", force_remount=True).\n",
            "--2022-03-30 18:35:02--  http://snap.stanford.edu/data/amazon/productGraph/categoryFiles/reviews_Video_Games.json.gz\n",
            "Resolving snap.stanford.edu (snap.stanford.edu)... 171.64.75.80\n",
            "Connecting to snap.stanford.edu (snap.stanford.edu)|171.64.75.80|:80... connected.\n",
            "HTTP request sent, awaiting response... 200 OK\n",
            "Length: 386419180 (369M) [application/x-gzip]\n",
            "Saving to: ‘reviews_Video_Games.json.gz.4’\n",
            "\n",
            "reviews_Video_Games 100%[===================>] 368.52M  6.69MB/s    in 63s     \n",
            "\n",
            "2022-03-30 18:36:05 (5.87 MB/s) - ‘reviews_Video_Games.json.gz.4’ saved [386419180/386419180]\n",
            "\n",
            "gzip: reviews_Video_Games.json already exists; do you wish to overwrite (y or n)? n\n",
            "\tnot overwritten\n",
            "--2022-03-30 18:39:51--  http://deepyeti.ucsd.edu/jianmo/amazon/metaFiles2/meta_Video_Games.json.gz\n",
            "Resolving deepyeti.ucsd.edu (deepyeti.ucsd.edu)... 169.228.63.50\n",
            "Connecting to deepyeti.ucsd.edu (deepyeti.ucsd.edu)|169.228.63.50|:80... connected.\n",
            "HTTP request sent, awaiting response... 200 OK\n",
            "Length: 53175983 (51M) [application/octet-stream]\n",
            "Saving to: ‘meta_Video_Games.json.gz.5’\n",
            "\n",
            "meta_Video_Games.js 100%[===================>]  50.71M  31.4MB/s    in 1.6s    \n",
            "\n",
            "2022-03-30 18:39:53 (31.4 MB/s) - ‘meta_Video_Games.json.gz.5’ saved [53175983/53175983]\n",
            "\n",
            "gzip: meta_Video_Games.json already exists; do you wish to overwrite (y or n)? n\n",
            "\tnot overwritten\n"
          ]
        }
      ],
      "source": [
        "#Uncomment the below if using google drive to store files\n",
        "from google.colab import drive\n",
        "drive.mount('/content/drive')\n",
        "!wget http://snap.stanford.edu/data/amazon/productGraph/categoryFiles/reviews_Video_Games.json.gz\n",
        "!gunzip reviews_Video_Games.json.gz\n",
        "!wget http://deepyeti.ucsd.edu/jianmo/amazon/metaFiles2/meta_Video_Games.json.gz\n",
        "!gunzip meta_Video_Games.json.gz\n"
      ]
    },
    {
      "cell_type": "markdown",
      "metadata": {
        "id": "9vnOQ1NOvJJo"
      },
      "source": [
        "# Installing dependencies"
      ]
    },
    {
      "cell_type": "code",
      "execution_count": 70,
      "metadata": {
        "colab": {
          "base_uri": "https://localhost:8080/"
        },
        "id": "d4aXjOxLuUzx",
        "outputId": "9c1f0d86-f214-4b12-9add-08b453386494"
      },
      "outputs": [
        {
          "name": "stdout",
          "output_type": "stream",
          "text": [
            "Requirement already satisfied: pyspark in /usr/local/lib/python3.7/dist-packages (3.2.1)\n",
            "Requirement already satisfied: py4j==0.10.9.3 in /usr/local/lib/python3.7/dist-packages (from pyspark) (0.10.9.3)\n"
          ]
        }
      ],
      "source": [
        "pip install pyspark"
      ]
    },
    {
      "cell_type": "code",
      "execution_count": 71,
      "metadata": {
        "colab": {
          "base_uri": "https://localhost:8080/"
        },
        "id": "TXrFRULcucfM",
        "outputId": "aa691b91-2764-45ee-c32c-8b5949572309"
      },
      "outputs": [
        {
          "name": "stdout",
          "output_type": "stream",
          "text": [
            "Requirement already satisfied: nltk in /usr/local/lib/python3.7/dist-packages (3.7)\n",
            "Requirement already satisfied: joblib in /usr/local/lib/python3.7/dist-packages (from nltk) (1.1.0)\n",
            "Requirement already satisfied: tqdm in /usr/local/lib/python3.7/dist-packages (from nltk) (4.63.0)\n",
            "Requirement already satisfied: click in /usr/local/lib/python3.7/dist-packages (from nltk) (7.1.2)\n",
            "Requirement already satisfied: regex>=2021.8.3 in /usr/local/lib/python3.7/dist-packages (from nltk) (2022.3.15)\n"
          ]
        }
      ],
      "source": [
        "pip install nltk"
      ]
    },
    {
      "cell_type": "code",
      "execution_count": 72,
      "metadata": {
        "colab": {
          "base_uri": "https://localhost:8080/"
        },
        "id": "CHYtIenZucnL",
        "outputId": "e5f00d66-1fb3-4cde-8e71-15137b780c4a"
      },
      "outputs": [
        {
          "name": "stdout",
          "output_type": "stream",
          "text": [
            "Requirement already satisfied: rake_nltk in /usr/local/lib/python3.7/dist-packages (1.0.6)\n",
            "Requirement already satisfied: nltk<4.0.0,>=3.6.2 in /usr/local/lib/python3.7/dist-packages (from rake_nltk) (3.7)\n",
            "Requirement already satisfied: click in /usr/local/lib/python3.7/dist-packages (from nltk<4.0.0,>=3.6.2->rake_nltk) (7.1.2)\n",
            "Requirement already satisfied: tqdm in /usr/local/lib/python3.7/dist-packages (from nltk<4.0.0,>=3.6.2->rake_nltk) (4.63.0)\n",
            "Requirement already satisfied: joblib in /usr/local/lib/python3.7/dist-packages (from nltk<4.0.0,>=3.6.2->rake_nltk) (1.1.0)\n",
            "Requirement already satisfied: regex>=2021.8.3 in /usr/local/lib/python3.7/dist-packages (from nltk<4.0.0,>=3.6.2->rake_nltk) (2022.3.15)\n"
          ]
        }
      ],
      "source": [
        "pip install rake_nltk"
      ]
    },
    {
      "cell_type": "markdown",
      "metadata": {
        "id": "cVPf8C5NvVQF"
      },
      "source": [
        "# Importing libraries and initializing spark"
      ]
    },
    {
      "cell_type": "code",
      "execution_count": 73,
      "metadata": {
        "id": "cIrbV0pHucpy"
      },
      "outputs": [],
      "source": [
        "import os\n",
        "import sys\n",
        "import re #regex\n",
        "from pyspark.rdd import RDD\n",
        "from pyspark.sql import Row\n",
        "from pyspark.sql import DataFrame\n",
        "from pyspark.sql import SparkSession\n",
        "from pyspark.sql.functions import lit\n",
        "from pyspark.sql.functions import desc\n",
        "from pyspark.ml.evaluation import RegressionEvaluator\n",
        "from pyspark.ml.recommendation import ALS\n",
        "def init_spark():\n",
        "    spark = SparkSession \\\n",
        "        .builder \\\n",
        "        .appName(\"Content Based Recommendation\") \\\n",
        "        .getOrCreate()\n",
        "    return spark\n",
        "\n",
        "    "
      ]
    },
    {
      "cell_type": "markdown",
      "metadata": {
        "id": "Sv_53iKHzGpX"
      },
      "source": [
        "# Parsing data and removing unwanted columns\n"
      ]
    },
    {
      "cell_type": "code",
      "execution_count": 74,
      "metadata": {
        "colab": {
          "base_uri": "https://localhost:8080/"
        },
        "id": "gOXytYaVucsk",
        "outputId": "8a199cc0-c944-430d-b39a-ff05b39bc792"
      },
      "outputs": [
        {
          "name": "stdout",
          "output_type": "stream",
          "text": [
            "Before:\n",
            "\n",
            "['also_buy', 'also_view', 'asin', 'brand', 'category', 'date', 'description', 'details', 'feature', 'fit', 'imageURL', 'imageURLHighRes', 'main_cat', 'price', 'rank', 'similar_item', 'tech1', 'tech2', 'title']\n",
            "\n",
            "After:\n",
            "\n",
            "['asin', 'title', 'brand', 'category', 'description', 'feature']\n"
          ]
        }
      ],
      "source": [
        "video_games = 'meta_Video_Games.json'\n",
        "\n",
        "spark = init_spark()\n",
        "df_raw = spark.read.json(video_games)\n",
        "print(\"Before:\\n\")\n",
        "print(df_raw.columns)\n",
        "\n",
        "df1=df_raw.select(\"asin\",\"title\", \"brand\",\"category\",\"description\",\"feature\")\n",
        "\n",
        "df1.createOrReplaceTempView(\"items\")\n",
        "df2 = spark.sql(\"select asin,title, brand,category,description,feature from items LIMIT 15000\")\n",
        "print('\\nAfter:\\n')\n",
        "print(df2.columns)"
      ]
    },
    {
      "cell_type": "code",
      "execution_count": 75,
      "metadata": {
        "id": "tjpgNbUeucvF"
      },
      "outputs": [],
      "source": [
        "df=df2.toPandas()\n"
      ]
    },
    {
      "cell_type": "markdown",
      "metadata": {
        "id": "3oyNasYpwZ5C"
      },
      "source": [
        "# Text cleanup for display - replacing empty entries by None"
      ]
    },
    {
      "cell_type": "markdown",
      "metadata": {
        "id": "EoZ8FzSo1XF7"
      },
      "source": [
        "- fixing HTML content and removing < tags >"
      ]
    },
    {
      "cell_type": "code",
      "execution_count": 76,
      "metadata": {
        "colab": {
          "base_uri": "https://localhost:8080/",
          "height": 206
        },
        "id": "rQAA-GX_wnVt",
        "outputId": "32418f7b-eab8-47d0-c26b-581d06e34966"
      },
      "outputs": [
        {
          "data": {
            "text/html": [
              "\n",
              "  <div id=\"df-4395926d-d6de-4057-bdad-83ef0c65a921\">\n",
              "    <div class=\"colab-df-container\">\n",
              "      <div>\n",
              "<style scoped>\n",
              "    .dataframe tbody tr th:only-of-type {\n",
              "        vertical-align: middle;\n",
              "    }\n",
              "\n",
              "    .dataframe tbody tr th {\n",
              "        vertical-align: top;\n",
              "    }\n",
              "\n",
              "    .dataframe thead th {\n",
              "        text-align: right;\n",
              "    }\n",
              "</style>\n",
              "<table border=\"1\" class=\"dataframe\">\n",
              "  <thead>\n",
              "    <tr style=\"text-align: right;\">\n",
              "      <th></th>\n",
              "      <th>asin</th>\n",
              "      <th>title</th>\n",
              "      <th>category</th>\n",
              "      <th>brand</th>\n",
              "      <th>feature</th>\n",
              "    </tr>\n",
              "  </thead>\n",
              "  <tbody>\n",
              "    <tr>\n",
              "      <th>0</th>\n",
              "      <td>0042000742</td>\n",
              "      <td>Reversi Sensory Challenger</td>\n",
              "      <td>[Video Games, PC, Games]</td>\n",
              "      <td>Fidelity Electronics</td>\n",
              "      <td>None</td>\n",
              "    </tr>\n",
              "    <tr>\n",
              "      <th>1</th>\n",
              "      <td>0078764343</td>\n",
              "      <td>Medal of Honor: Warfighter - Includes Battlefi...</td>\n",
              "      <td>[Video Games, Xbox 360, Games]</td>\n",
              "      <td>by        EA Games</td>\n",
              "      <td>None</td>\n",
              "    </tr>\n",
              "    <tr>\n",
              "      <th>2</th>\n",
              "      <td>0276425316</td>\n",
              "      <td>street fighter 2 II turbo super nintendo snes ...</td>\n",
              "      <td>[Video Games, Retro Gaming &amp; Microconsoles, Su...</td>\n",
              "      <td>Nintendo</td>\n",
              "      <td>None</td>\n",
              "    </tr>\n",
              "    <tr>\n",
              "      <th>3</th>\n",
              "      <td>0324411812</td>\n",
              "      <td>Xbox 360 MAS STICK</td>\n",
              "      <td>[Video Games, Xbox 360, Accessories, Controlle...</td>\n",
              "      <td>by        MAS SYSTEMS</td>\n",
              "      <td>Original PCB used from Xbox 360 Control Pad (t...</td>\n",
              "    </tr>\n",
              "    <tr>\n",
              "      <th>4</th>\n",
              "      <td>0439335310</td>\n",
              "      <td>Phonics Alive! 3: The Speller</td>\n",
              "      <td>[Video Games, PC, Games, Grades 2-12, Spelling...</td>\n",
              "      <td>by        Advanced Software Pty. Ltd.</td>\n",
              "      <td>Grades 2-12</td>\n",
              "    </tr>\n",
              "  </tbody>\n",
              "</table>\n",
              "</div>\n",
              "      <button class=\"colab-df-convert\" onclick=\"convertToInteractive('df-4395926d-d6de-4057-bdad-83ef0c65a921')\"\n",
              "              title=\"Convert this dataframe to an interactive table.\"\n",
              "              style=\"display:none;\">\n",
              "        \n",
              "  <svg xmlns=\"http://www.w3.org/2000/svg\" height=\"24px\"viewBox=\"0 0 24 24\"\n",
              "       width=\"24px\">\n",
              "    <path d=\"M0 0h24v24H0V0z\" fill=\"none\"/>\n",
              "    <path d=\"M18.56 5.44l.94 2.06.94-2.06 2.06-.94-2.06-.94-.94-2.06-.94 2.06-2.06.94zm-11 1L8.5 8.5l.94-2.06 2.06-.94-2.06-.94L8.5 2.5l-.94 2.06-2.06.94zm10 10l.94 2.06.94-2.06 2.06-.94-2.06-.94-.94-2.06-.94 2.06-2.06.94z\"/><path d=\"M17.41 7.96l-1.37-1.37c-.4-.4-.92-.59-1.43-.59-.52 0-1.04.2-1.43.59L10.3 9.45l-7.72 7.72c-.78.78-.78 2.05 0 2.83L4 21.41c.39.39.9.59 1.41.59.51 0 1.02-.2 1.41-.59l7.78-7.78 2.81-2.81c.8-.78.8-2.07 0-2.86zM5.41 20L4 18.59l7.72-7.72 1.47 1.35L5.41 20z\"/>\n",
              "  </svg>\n",
              "      </button>\n",
              "      \n",
              "  <style>\n",
              "    .colab-df-container {\n",
              "      display:flex;\n",
              "      flex-wrap:wrap;\n",
              "      gap: 12px;\n",
              "    }\n",
              "\n",
              "    .colab-df-convert {\n",
              "      background-color: #E8F0FE;\n",
              "      border: none;\n",
              "      border-radius: 50%;\n",
              "      cursor: pointer;\n",
              "      display: none;\n",
              "      fill: #1967D2;\n",
              "      height: 32px;\n",
              "      padding: 0 0 0 0;\n",
              "      width: 32px;\n",
              "    }\n",
              "\n",
              "    .colab-df-convert:hover {\n",
              "      background-color: #E2EBFA;\n",
              "      box-shadow: 0px 1px 2px rgba(60, 64, 67, 0.3), 0px 1px 3px 1px rgba(60, 64, 67, 0.15);\n",
              "      fill: #174EA6;\n",
              "    }\n",
              "\n",
              "    [theme=dark] .colab-df-convert {\n",
              "      background-color: #3B4455;\n",
              "      fill: #D2E3FC;\n",
              "    }\n",
              "\n",
              "    [theme=dark] .colab-df-convert:hover {\n",
              "      background-color: #434B5C;\n",
              "      box-shadow: 0px 1px 3px 1px rgba(0, 0, 0, 0.15);\n",
              "      filter: drop-shadow(0px 1px 2px rgba(0, 0, 0, 0.3));\n",
              "      fill: #FFFFFF;\n",
              "    }\n",
              "  </style>\n",
              "\n",
              "      <script>\n",
              "        const buttonEl =\n",
              "          document.querySelector('#df-4395926d-d6de-4057-bdad-83ef0c65a921 button.colab-df-convert');\n",
              "        buttonEl.style.display =\n",
              "          google.colab.kernel.accessAllowed ? 'block' : 'none';\n",
              "\n",
              "        async function convertToInteractive(key) {\n",
              "          const element = document.querySelector('#df-4395926d-d6de-4057-bdad-83ef0c65a921');\n",
              "          const dataTable =\n",
              "            await google.colab.kernel.invokeFunction('convertToInteractive',\n",
              "                                                     [key], {});\n",
              "          if (!dataTable) return;\n",
              "\n",
              "          const docLinkHtml = 'Like what you see? Visit the ' +\n",
              "            '<a target=\"_blank\" href=https://colab.research.google.com/notebooks/data_table.ipynb>data table notebook</a>'\n",
              "            + ' to learn more about interactive tables.';\n",
              "          element.innerHTML = '';\n",
              "          dataTable['output_type'] = 'display_data';\n",
              "          await google.colab.output.renderOutput(dataTable, element);\n",
              "          const docLink = document.createElement('div');\n",
              "          docLink.innerHTML = docLinkHtml;\n",
              "          element.appendChild(docLink);\n",
              "        }\n",
              "      </script>\n",
              "    </div>\n",
              "  </div>\n",
              "  "
            ],
            "text/plain": [
              "         asin                                              title  \\\n",
              "0  0042000742                         Reversi Sensory Challenger   \n",
              "1  0078764343  Medal of Honor: Warfighter - Includes Battlefi...   \n",
              "2  0276425316  street fighter 2 II turbo super nintendo snes ...   \n",
              "3  0324411812                                 Xbox 360 MAS STICK   \n",
              "4  0439335310                      Phonics Alive! 3: The Speller   \n",
              "\n",
              "                                            category  \\\n",
              "0                           [Video Games, PC, Games]   \n",
              "1                     [Video Games, Xbox 360, Games]   \n",
              "2  [Video Games, Retro Gaming & Microconsoles, Su...   \n",
              "3  [Video Games, Xbox 360, Accessories, Controlle...   \n",
              "4  [Video Games, PC, Games, Grades 2-12, Spelling...   \n",
              "\n",
              "                                   brand  \\\n",
              "0                   Fidelity Electronics   \n",
              "1                     by        EA Games   \n",
              "2                               Nintendo   \n",
              "3                  by        MAS SYSTEMS   \n",
              "4  by        Advanced Software Pty. Ltd.   \n",
              "\n",
              "                                             feature  \n",
              "0                                               None  \n",
              "1                                               None  \n",
              "2                                               None  \n",
              "3  Original PCB used from Xbox 360 Control Pad (t...  \n",
              "4                                        Grades 2-12  "
            ]
          },
          "execution_count": 76,
          "metadata": {},
          "output_type": "execute_result"
        }
      ],
      "source": [
        "def remove_tags(foo):\n",
        "  pattern = '<\\/?[a-zA-Z0-9.]*>'\n",
        "  if type(foo) == list:\n",
        "    temp = []\n",
        "    for txt in foo:   \n",
        "      txt = re.sub('&lt;', '<', txt)\n",
        "      txt = re.sub('&gt;', '>', txt)\n",
        "      txt = re.sub('&amp;', '&', txt)\n",
        "      txt = re.sub('\\b', '', txt)\n",
        "      txt = re.sub('\\n', '', txt)\n",
        "      txt = re.sub(pattern, '', txt)\n",
        "      if len(txt) > 1:\n",
        "          temp.append(txt)\n",
        "    return temp\n",
        "  elif type(foo) == str:\n",
        "      foo = re.sub('&lt;', '<', foo)\n",
        "      foo = re.sub('&gt;', '>', foo)\n",
        "      foo = re.sub('&amp;', '&', foo)\n",
        "      foo = re.sub('\\b', '', foo)\n",
        "      foo = re.sub('\\n', '', foo)\n",
        "      foo = re.sub(pattern, '', foo)\n",
        "      if len(foo) > 1:\n",
        "        return(foo) \n",
        "  \n",
        "\n",
        "\n",
        "df['category'] = df['category'].apply(remove_tags)\n",
        "df['brand'] = df['brand'].apply(remove_tags)\n",
        "\n",
        "df.head()\n",
        "\n",
        "import pandas as pd\n",
        "from rake_nltk import Rake\n",
        "import numpy as np\n",
        "from sklearn.metrics.pairwise import cosine_similarity\n",
        "from sklearn.feature_extraction.text import CountVectorizer\n",
        "\n",
        "\n",
        "df = df[['asin','title','category','brand','feature']]\n",
        "df['feature'] = df['feature'].str[0]\n",
        "df = df.astype(object).replace(np.nan, 'None')\n",
        "df.head()\n"
      ]
    },
    {
      "cell_type": "markdown",
      "metadata": {
        "id": "oqTuskZz0R_f"
      },
      "source": [
        "# - Importing NLTK \n",
        "Removing punctuation and stopwords from the feature tab\n",
        "Creating a bag of words from item description"
      ]
    },
    {
      "cell_type": "code",
      "execution_count": 77,
      "metadata": {
        "colab": {
          "base_uri": "https://localhost:8080/"
        },
        "id": "d1TELGxGmNCv",
        "outputId": "86e51750-b042-4f83-8268-1a098e343816"
      },
      "outputs": [
        {
          "name": "stderr",
          "output_type": "stream",
          "text": [
            "[nltk_data] Downloading package stopwords to /root/nltk_data...\n",
            "[nltk_data]   Package stopwords is already up-to-date!\n",
            "[nltk_data] Downloading package punkt to /root/nltk_data...\n",
            "[nltk_data]   Package punkt is already up-to-date!\n"
          ]
        }
      ],
      "source": [
        "# initializing the new column\n",
        "from nltk import word_tokenize\n",
        "import nltk\n",
        "nltk.download('stopwords')\n",
        "nltk.download('punkt')\n",
        "\n",
        "df['feature'].dropna(inplace=True)\n",
        "tokens = df['feature'].apply(word_tokenize)\n",
        "\n",
        "\n",
        "df['Key_words'] = \"\"\n",
        "\n",
        "for index, row in df.iterrows():\n",
        "    plot = row['feature']\n",
        "    \n",
        "    # instantiating Rake, by default is uses english stopwords from NLTK\n",
        "    # and discard all puntuation characters\n",
        "    r = Rake()\n",
        "\n",
        "    # extracting the words by passing the text\n",
        "    r.extract_keywords_from_text(plot)\n",
        "\n",
        "    # getting the dictionary whith key words and their scores\n",
        "    key_words_dict_scores = r.get_word_degrees()\n",
        "    \n",
        "    # assigning the key words to the new column\n",
        "    row['Key_words'] = list(key_words_dict_scores.keys())\n",
        "\n",
        "# dropping the Plot column\n",
        "df.drop(columns = ['feature'], inplace = True)"
      ]
    },
    {
      "cell_type": "markdown",
      "metadata": {
        "id": "6FAKpNuv0l-T"
      },
      "source": [
        "- Creating a matrix with 'title' set as index"
      ]
    },
    {
      "cell_type": "code",
      "execution_count": 78,
      "metadata": {
        "colab": {
          "base_uri": "https://localhost:8080/",
          "height": 237
        },
        "id": "aBBSiTYpmOyZ",
        "outputId": "14d30e5e-1db8-4504-fdc9-ee7cfaa057b6"
      },
      "outputs": [
        {
          "data": {
            "text/html": [
              "\n",
              "  <div id=\"df-209a8d45-d38f-43a6-942f-27dc0f5ae0cd\">\n",
              "    <div class=\"colab-df-container\">\n",
              "      <div>\n",
              "<style scoped>\n",
              "    .dataframe tbody tr th:only-of-type {\n",
              "        vertical-align: middle;\n",
              "    }\n",
              "\n",
              "    .dataframe tbody tr th {\n",
              "        vertical-align: top;\n",
              "    }\n",
              "\n",
              "    .dataframe thead th {\n",
              "        text-align: right;\n",
              "    }\n",
              "</style>\n",
              "<table border=\"1\" class=\"dataframe\">\n",
              "  <thead>\n",
              "    <tr style=\"text-align: right;\">\n",
              "      <th></th>\n",
              "      <th>asin</th>\n",
              "      <th>category</th>\n",
              "      <th>brand</th>\n",
              "      <th>Key_words</th>\n",
              "    </tr>\n",
              "    <tr>\n",
              "      <th>title</th>\n",
              "      <th></th>\n",
              "      <th></th>\n",
              "      <th></th>\n",
              "      <th></th>\n",
              "    </tr>\n",
              "  </thead>\n",
              "  <tbody>\n",
              "    <tr>\n",
              "      <th>Reversi Sensory Challenger</th>\n",
              "      <td>0042000742</td>\n",
              "      <td>[Video Games, PC, Games]</td>\n",
              "      <td>Fidelity Electronics</td>\n",
              "      <td>[none]</td>\n",
              "    </tr>\n",
              "    <tr>\n",
              "      <th>Medal of Honor: Warfighter - Includes Battlefield 4 Beta - Limited Edition</th>\n",
              "      <td>0078764343</td>\n",
              "      <td>[Video Games, Xbox 360, Games]</td>\n",
              "      <td>by        EA Games</td>\n",
              "      <td>[none]</td>\n",
              "    </tr>\n",
              "    <tr>\n",
              "      <th>street fighter 2 II turbo super nintendo snes super nes video game</th>\n",
              "      <td>0276425316</td>\n",
              "      <td>[Video Games, Retro Gaming &amp; Microconsoles, Su...</td>\n",
              "      <td>Nintendo</td>\n",
              "      <td>[none]</td>\n",
              "    </tr>\n",
              "    <tr>\n",
              "      <th>Xbox 360 MAS STICK</th>\n",
              "      <td>0324411812</td>\n",
              "      <td>[Video Games, Xbox 360, Accessories, Controlle...</td>\n",
              "      <td>by        MAS SYSTEMS</td>\n",
              "      <td>[original, pcb, used, xbox, 360, control, pad,...</td>\n",
              "    </tr>\n",
              "    <tr>\n",
              "      <th>Phonics Alive! 3: The Speller</th>\n",
              "      <td>0439335310</td>\n",
              "      <td>[Video Games, PC, Games, Grades 2-12, Spelling...</td>\n",
              "      <td>by        Advanced Software Pty. Ltd.</td>\n",
              "      <td>[grades, 2, 12]</td>\n",
              "    </tr>\n",
              "  </tbody>\n",
              "</table>\n",
              "</div>\n",
              "      <button class=\"colab-df-convert\" onclick=\"convertToInteractive('df-209a8d45-d38f-43a6-942f-27dc0f5ae0cd')\"\n",
              "              title=\"Convert this dataframe to an interactive table.\"\n",
              "              style=\"display:none;\">\n",
              "        \n",
              "  <svg xmlns=\"http://www.w3.org/2000/svg\" height=\"24px\"viewBox=\"0 0 24 24\"\n",
              "       width=\"24px\">\n",
              "    <path d=\"M0 0h24v24H0V0z\" fill=\"none\"/>\n",
              "    <path d=\"M18.56 5.44l.94 2.06.94-2.06 2.06-.94-2.06-.94-.94-2.06-.94 2.06-2.06.94zm-11 1L8.5 8.5l.94-2.06 2.06-.94-2.06-.94L8.5 2.5l-.94 2.06-2.06.94zm10 10l.94 2.06.94-2.06 2.06-.94-2.06-.94-.94-2.06-.94 2.06-2.06.94z\"/><path d=\"M17.41 7.96l-1.37-1.37c-.4-.4-.92-.59-1.43-.59-.52 0-1.04.2-1.43.59L10.3 9.45l-7.72 7.72c-.78.78-.78 2.05 0 2.83L4 21.41c.39.39.9.59 1.41.59.51 0 1.02-.2 1.41-.59l7.78-7.78 2.81-2.81c.8-.78.8-2.07 0-2.86zM5.41 20L4 18.59l7.72-7.72 1.47 1.35L5.41 20z\"/>\n",
              "  </svg>\n",
              "      </button>\n",
              "      \n",
              "  <style>\n",
              "    .colab-df-container {\n",
              "      display:flex;\n",
              "      flex-wrap:wrap;\n",
              "      gap: 12px;\n",
              "    }\n",
              "\n",
              "    .colab-df-convert {\n",
              "      background-color: #E8F0FE;\n",
              "      border: none;\n",
              "      border-radius: 50%;\n",
              "      cursor: pointer;\n",
              "      display: none;\n",
              "      fill: #1967D2;\n",
              "      height: 32px;\n",
              "      padding: 0 0 0 0;\n",
              "      width: 32px;\n",
              "    }\n",
              "\n",
              "    .colab-df-convert:hover {\n",
              "      background-color: #E2EBFA;\n",
              "      box-shadow: 0px 1px 2px rgba(60, 64, 67, 0.3), 0px 1px 3px 1px rgba(60, 64, 67, 0.15);\n",
              "      fill: #174EA6;\n",
              "    }\n",
              "\n",
              "    [theme=dark] .colab-df-convert {\n",
              "      background-color: #3B4455;\n",
              "      fill: #D2E3FC;\n",
              "    }\n",
              "\n",
              "    [theme=dark] .colab-df-convert:hover {\n",
              "      background-color: #434B5C;\n",
              "      box-shadow: 0px 1px 3px 1px rgba(0, 0, 0, 0.15);\n",
              "      filter: drop-shadow(0px 1px 2px rgba(0, 0, 0, 0.3));\n",
              "      fill: #FFFFFF;\n",
              "    }\n",
              "  </style>\n",
              "\n",
              "      <script>\n",
              "        const buttonEl =\n",
              "          document.querySelector('#df-209a8d45-d38f-43a6-942f-27dc0f5ae0cd button.colab-df-convert');\n",
              "        buttonEl.style.display =\n",
              "          google.colab.kernel.accessAllowed ? 'block' : 'none';\n",
              "\n",
              "        async function convertToInteractive(key) {\n",
              "          const element = document.querySelector('#df-209a8d45-d38f-43a6-942f-27dc0f5ae0cd');\n",
              "          const dataTable =\n",
              "            await google.colab.kernel.invokeFunction('convertToInteractive',\n",
              "                                                     [key], {});\n",
              "          if (!dataTable) return;\n",
              "\n",
              "          const docLinkHtml = 'Like what you see? Visit the ' +\n",
              "            '<a target=\"_blank\" href=https://colab.research.google.com/notebooks/data_table.ipynb>data table notebook</a>'\n",
              "            + ' to learn more about interactive tables.';\n",
              "          element.innerHTML = '';\n",
              "          dataTable['output_type'] = 'display_data';\n",
              "          await google.colab.output.renderOutput(dataTable, element);\n",
              "          const docLink = document.createElement('div');\n",
              "          docLink.innerHTML = docLinkHtml;\n",
              "          element.appendChild(docLink);\n",
              "        }\n",
              "      </script>\n",
              "    </div>\n",
              "  </div>\n",
              "  "
            ],
            "text/plain": [
              "                                                          asin  \\\n",
              "title                                                            \n",
              "Reversi Sensory Challenger                          0042000742   \n",
              "Medal of Honor: Warfighter - Includes Battlefie...  0078764343   \n",
              "street fighter 2 II turbo super nintendo snes s...  0276425316   \n",
              "Xbox 360 MAS STICK                                  0324411812   \n",
              "Phonics Alive! 3: The Speller                       0439335310   \n",
              "\n",
              "                                                                                             category  \\\n",
              "title                                                                                                   \n",
              "Reversi Sensory Challenger                                                   [Video Games, PC, Games]   \n",
              "Medal of Honor: Warfighter - Includes Battlefie...                     [Video Games, Xbox 360, Games]   \n",
              "street fighter 2 II turbo super nintendo snes s...  [Video Games, Retro Gaming & Microconsoles, Su...   \n",
              "Xbox 360 MAS STICK                                  [Video Games, Xbox 360, Accessories, Controlle...   \n",
              "Phonics Alive! 3: The Speller                       [Video Games, PC, Games, Grades 2-12, Spelling...   \n",
              "\n",
              "                                                                                    brand  \\\n",
              "title                                                                                       \n",
              "Reversi Sensory Challenger                                           Fidelity Electronics   \n",
              "Medal of Honor: Warfighter - Includes Battlefie...                     by        EA Games   \n",
              "street fighter 2 II turbo super nintendo snes s...                               Nintendo   \n",
              "Xbox 360 MAS STICK                                                  by        MAS SYSTEMS   \n",
              "Phonics Alive! 3: The Speller                       by        Advanced Software Pty. Ltd.   \n",
              "\n",
              "                                                                                            Key_words  \n",
              "title                                                                                                  \n",
              "Reversi Sensory Challenger                                                                     [none]  \n",
              "Medal of Honor: Warfighter - Includes Battlefie...                                             [none]  \n",
              "street fighter 2 II turbo super nintendo snes s...                                             [none]  \n",
              "Xbox 360 MAS STICK                                  [original, pcb, used, xbox, 360, control, pad,...  \n",
              "Phonics Alive! 3: The Speller                                                         [grades, 2, 12]  "
            ]
          },
          "execution_count": 78,
          "metadata": {},
          "output_type": "execute_result"
        }
      ],
      "source": [
        "df.set_index('title', inplace = True)\n",
        "df.head()"
      ]
    },
    {
      "cell_type": "markdown",
      "metadata": {
        "id": "31OuiIwX2GCE"
      },
      "source": [
        "- Creating bags of words from item descriptors"
      ]
    },
    {
      "cell_type": "code",
      "execution_count": 79,
      "metadata": {
        "id": "yJf7fG9JtMuk"
      },
      "outputs": [],
      "source": [
        "df['bag_of_words'] = ''\n",
        "columns = df.columns\n",
        "for index, row in df.iterrows():\n",
        "    words = ''\n",
        "    for col in columns:\n",
        "        if col != 'Director':\n",
        "            words = words + ' '.join(row[col])+ ' '\n",
        "        else:\n",
        "            words = words + row[col]+ ' '\n",
        "    row['bag_of_words'] = words\n"
      ]
    },
    {
      "cell_type": "markdown",
      "metadata": {
        "id": "aX-ZjzQk2coW"
      },
      "source": [
        "- setting up an index lookup table"
      ]
    },
    {
      "cell_type": "code",
      "execution_count": 80,
      "metadata": {
        "colab": {
          "base_uri": "https://localhost:8080/"
        },
        "id": "I-cTDgS7m2Gn",
        "outputId": "127bb102-9ff1-4aea-9227-1b853f443d22"
      },
      "outputs": [
        {
          "data": {
            "text/plain": [
              "0                           Reversi Sensory Challenger\n",
              "1    Medal of Honor: Warfighter - Includes Battlefi...\n",
              "2    street fighter 2 II turbo super nintendo snes ...\n",
              "3                                   Xbox 360 MAS STICK\n",
              "4                        Phonics Alive! 3: The Speller\n",
              "Name: title, dtype: object"
            ]
          },
          "execution_count": 80,
          "metadata": {},
          "output_type": "execute_result"
        }
      ],
      "source": [
        "# instantiating and generating the count matrix\n",
        "count = CountVectorizer()\n",
        "count_matrix = count.fit_transform(df['bag_of_words'])\n",
        "\n",
        "# creating a Series for the video game  titles so they are associated to an ordered numerical\n",
        "# list to be used later to match the indexes\n",
        "indices = pd.Series(df.index)\n",
        "indices[:5]"
      ]
    },
    {
      "cell_type": "markdown",
      "metadata": {
        "id": "7nJ5kiIb2V9E"
      },
      "source": [
        "- Generating the cosine similarity matrix"
      ]
    },
    {
      "cell_type": "code",
      "execution_count": 81,
      "metadata": {
        "colab": {
          "base_uri": "https://localhost:8080/"
        },
        "id": "AweQ0kottWna",
        "outputId": "52397c20-4f3e-4fdc-b45f-c2c42f564027"
      },
      "outputs": [
        {
          "data": {
            "text/plain": [
              "array([[1.        , 0.80178373, 0.68376346, ..., 0.41239305, 0.71713717,\n",
              "        0.45834925],\n",
              "       [0.80178373, 1.        , 0.63960215, ..., 0.38575837, 0.67082039,\n",
              "        0.42874646],\n",
              "       [0.68376346, 0.63960215, 1.        , ..., 0.52636136, 0.85811633,\n",
              "        0.58501794],\n",
              "       ...,\n",
              "       [0.41239305, 0.38575837, 0.52636136, ..., 1.        , 0.55205245,\n",
              "        0.58218174],\n",
              "       [0.71713717, 0.67082039, 0.85811633, ..., 0.55205245, 1.        ,\n",
              "        0.61357199],\n",
              "       [0.45834925, 0.42874646, 0.58501794, ..., 0.58218174, 0.61357199,\n",
              "        1.        ]])"
            ]
          },
          "execution_count": 81,
          "metadata": {},
          "output_type": "execute_result"
        }
      ],
      "source": [
        "# generating the cosine similarity matrix\n",
        "cosine_sim = cosine_similarity(count_matrix, count_matrix)\n",
        "cosine_sim"
      ]
    },
    {
      "cell_type": "markdown",
      "metadata": {
        "id": "BSxJGgBP2_Fz"
      },
      "source": [
        "- defining the recommendations function to find items with similar features"
      ]
    },
    {
      "cell_type": "code",
      "execution_count": 82,
      "metadata": {
        "id": "0ZVo_quItYhP"
      },
      "outputs": [],
      "source": [
        "\n",
        "def recommendations(title, cosine_sim = cosine_sim):\n",
        "    recommended_items = []\n",
        "    idx = indices[indices == title].index[0]\n",
        "    score_series = pd.Series(cosine_sim[idx]).sort_values(ascending = False)\n",
        "    top_10_indexes = list(score_series.iloc[1:11].index)\n",
        "    for i in top_10_indexes:\n",
        "        recommended_items.append(list(df.index)[i])\n",
        "    return recommended_items"
      ]
    },
    {
      "cell_type": "markdown",
      "metadata": {
        "id": "Mp4wD7Ho4-Aq"
      },
      "source": []
    },
    {
      "cell_type": "markdown",
      "metadata": {
        "id": "ka15NQhM5Dgh"
      },
      "source": [
        "# Testing"
      ]
    },
    {
      "cell_type": "markdown",
      "metadata": {
        "id": "hAt7sMGa4xqN"
      },
      "source": [
        "- testing item recommendation system:"
      ]
    },
    {
      "cell_type": "code",
      "execution_count": 83,
      "metadata": {
        "colab": {
          "base_uri": "https://localhost:8080/"
        },
        "id": "c-HjovZqm3Lt",
        "outputId": "a2fc919a-6cd2-4b8d-d4f4-426912eaf5a8"
      },
      "outputs": [
        {
          "name": "stdout",
          "output_type": "stream",
          "text": [
            "Generating more items like *Mickey's Ultimate Challenge - Nintendo Super NES*: \n",
            "\n"
          ]
        },
        {
          "data": {
            "text/plain": [
              "['King of the Monsters - Nintendo Super NES',\n",
              " 'Mohawk / Headphone Jack',\n",
              " 'Super Mario Kart',\n",
              " 'Lock On - Nintendo Super NES',\n",
              " \"Mickey's Ultimate Challenge - Nintendo Super NES\",\n",
              " 'Tecmo Super Bowl III: Final Edition',\n",
              " 'Radical Rex - Nintendo Super NES',\n",
              " 'Wing Commander - Nintendo Super NES',\n",
              " 'SimEarth: The Living Planet - Nintendo Super NES',\n",
              " 'P.T.O. - Nintendo Super NES']"
            ]
          },
          "execution_count": 83,
          "metadata": {},
          "output_type": "execute_result"
        }
      ],
      "source": [
        "#Just Test with one hard coded value\n",
        "print(\"Generating more items like *Mickey's Ultimate Challenge - Nintendo Super NES*: \\n\")\n",
        "recommendations('Mickey\\'s Ultimate Challenge - Nintendo Super NES')"
      ]
    },
    {
      "cell_type": "markdown",
      "metadata": {
        "id": "jOBJVdpq5nXo"
      },
      "source": [
        "- count tracer"
      ]
    },
    {
      "cell_type": "code",
      "execution_count": 84,
      "metadata": {
        "colab": {
          "base_uri": "https://localhost:8080/",
          "height": 52
        },
        "id": "QW-Cnagim6AP",
        "outputId": "62961600-19b6-431d-da91-a6ba7d2209d0"
      },
      "outputs": [
        {
          "data": {
            "application/vnd.google.colaboratory.intrinsic+json": {
              "type": "string"
            },
            "text/plain": [
              "'user_data_for_testing = \\'meta_Video_Games.json\\'\\nspark =init_spark()\\ndf_user = spark.read.json(user_data_for_testing)\\ndf_user.createOrReplaceTempView(\"users_for_testing\")\\noin_tab=spark.sql(\"SELECT a.asin,a.title,b.reviewerID,b.reviewerName from items_for_testing a, users_for_testing b where a.asin=b.asin \")\\noin_tab.count()\\ndf_for_testing = spark.sql(\"select asin,title, brand,category,description,feature from items\")\\ndf_for_testing.createOrReplaceTempView(\"items_for_testing\")\\noin_tab.count()'"
            ]
          },
          "execution_count": 84,
          "metadata": {},
          "output_type": "execute_result"
        }
      ],
      "source": [
        "'''user_data_for_testing = 'meta_Video_Games.json'\n",
        "spark =init_spark()\n",
        "df_user = spark.read.json(user_data_for_testing)\n",
        "df_user.createOrReplaceTempView(\"users_for_testing\")\n",
        "oin_tab=spark.sql(\"SELECT a.asin,a.title,b.reviewerID,b.reviewerName from items_for_testing a, users_for_testing b where a.asin=b.asin \")\n",
        "oin_tab.count()\n",
        "df_for_testing = spark.sql(\"select asin,title, brand,category,description,feature from items\")\n",
        "df_for_testing.createOrReplaceTempView(\"items_for_testing\")\n",
        "oin_tab.count()'''"
      ]
    },
    {
      "cell_type": "markdown",
      "metadata": {
        "id": "7fi6-P8-5xET"
      },
      "source": [
        "- def getrandom_user(): fetching a random user"
      ]
    },
    {
      "cell_type": "code",
      "execution_count": 85,
      "metadata": {
        "id": "fUI7K4Pgm8-d"
      },
      "outputs": [],
      "source": [
        "from pyspark.sql.functions import rand \n",
        "\n",
        "def getrandom_user():\n",
        "\n",
        "  spark=init_spark()\n",
        "  df_for_testing = spark.sql(\"select asin,title, brand,category,description,feature from items LIMIT 15000\")\n",
        "  df_for_testing.createOrReplaceTempView(\"items_for_testing\")\n",
        "  user_data_for_testing = 'reviews_Video_Games.json'\n",
        "  spark =init_spark()\n",
        "  df_user = spark.read.json(user_data_for_testing)\n",
        "  df_user.createOrReplaceTempView(\"users_for_testing\")\n",
        "  oin_tab=spark.sql(\"SELECT a.asin,a.title,b.reviewerID,b.reviewerName from items_for_testing a, users_for_testing b where a.asin=b.asin \")\n",
        "\n",
        "  test_row=oin_tab.orderBy(rand()).limit(1)\n",
        "\n",
        "  user = test_row.select(('reviewerName')).distinct().collect()[0][0]\n",
        "  item_title = test_row.select(('title')).distinct().collect()[0][0]\n",
        "\n",
        "  return user,item_title"
      ]
    },
    {
      "cell_type": "markdown",
      "metadata": {
        "id": "lvJETt7o58K2"
      },
      "source": [
        "# Test case with a random user "
      ]
    },
    {
      "cell_type": "markdown",
      "metadata": {
        "id": "9auKARwI6NVe"
      },
      "source": [
        "- picks a random user then adds a suggestion based on a item they bought and rated highly"
      ]
    },
    {
      "cell_type": "code",
      "execution_count": 86,
      "metadata": {
        "id": "PGBtIED4m-6f"
      },
      "outputs": [],
      "source": [
        "#item_title\n",
        "random_user,random_title=getrandom_user()"
      ]
    },
    {
      "cell_type": "markdown",
      "metadata": {
        "id": "n4Jw3qKX6YoG"
      },
      "source": [
        "- test case display"
      ]
    },
    {
      "cell_type": "code",
      "execution_count": 87,
      "metadata": {
        "colab": {
          "base_uri": "https://localhost:8080/"
        },
        "id": "MhVSEkJum_21",
        "outputId": "583df85f-0b55-4b4f-d64a-e32262209eb2"
      },
      "outputs": [
        {
          "name": "stdout",
          "output_type": "stream",
          "text": [
            "======================= output ===================\n",
            "User :  Michael Baker \"randomthoughtvoid\"\n",
            "Likes This Item Already  :  Summoner\n",
            "May Also Like the below : \n",
            "---\n"
          ]
        },
        {
          "data": {
            "text/plain": [
              "['Project Overkill - PlayStation',\n",
              " 'Arctic Thunder',\n",
              " 'Killing Zone',\n",
              " 'SSX Tricky',\n",
              " 'Project Overkill - PlayStation',\n",
              " 'WCW vs. The World - Playstation',\n",
              " 'Jeopardy',\n",
              " 'Disney Golf',\n",
              " 'SILPHEED:The Lost Planet',\n",
              " 'The King of Route 66']"
            ]
          },
          "execution_count": 87,
          "metadata": {},
          "output_type": "execute_result"
        }
      ],
      "source": [
        "print(\"======================= output ===================\")\n",
        "print(\"User : \" ,random_user)\n",
        "print(\"Likes This Item Already  : \" ,random_title)\n",
        "print(\"May Also Like the below : \")\n",
        "print(\"---\")\n",
        "recommendations(random_title)"
      ]
    },
    {
      "cell_type": "code",
      "execution_count": 88,
      "metadata": {
        "id": "dAwpbjWPnAdO"
      },
      "outputs": [],
      "source": [
        "def test_execute():\n",
        "  user,item=getrandom_user()\n",
        "  print(\"======================= output ===================\")\n",
        "  print(\"User : \" ,user)\n",
        "  print(\"Likes This Item Already  : \" ,item)\n",
        "  print(\"May Also Like the below : \")\n",
        "  print(\"---\")\n",
        "  print(recommendations(item))\n",
        "  "
      ]
    },
    {
      "cell_type": "code",
      "execution_count": 89,
      "metadata": {
        "colab": {
          "base_uri": "https://localhost:8080/"
        },
        "id": "k48uJI4JnBRW",
        "outputId": "185b69f2-8adf-4ddc-c2a2-594b948c7c74"
      },
      "outputs": [
        {
          "name": "stdout",
          "output_type": "stream",
          "text": [
            "======================= output ===================\n",
            "User :  Jonathan\n",
            "Likes This Item Already  :  Super Mario Land\n",
            "May Also Like the below : \n",
            "---\n",
            "['Super Mario Land', 'Kid Dracula', \"Disney's Aladdin\", \"Pooh &amp; Tigger's Hunny Safari\", 'Harvest Moon', 'VIP starring Pamela Anderson as Vallery Irons', 'WCW Mayhem', 'R-Type DX', \"Dragon's Lair\", 'Nascar Challenge']\n"
          ]
        }
      ],
      "source": [
        "test_execute()"
      ]
    }
  ],
  "metadata": {
    "colab": {
      "name": "CONTENT_BASED.ipynb",
      "provenance": []
    },
    "kernelspec": {
      "display_name": "Python 3",
      "name": "python3"
    },
    "language_info": {
      "name": "python"
    }
  },
  "nbformat": 4,
  "nbformat_minor": 0
}
